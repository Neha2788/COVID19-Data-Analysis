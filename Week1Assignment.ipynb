{
 "cells": [
  {
   "cell_type": "markdown",
   "metadata": {},
   "source": [
    "#### Data Scraping for WORLD WIDE Data"
   ]
  },
  {
   "cell_type": "code",
   "execution_count": 1,
   "metadata": {},
   "outputs": [],
   "source": [
    "import requests\n",
    "from bs4 import BeautifulSoup\n",
    "import pandas as pd\n",
    "import numpy as np"
   ]
  },
  {
   "cell_type": "code",
   "execution_count": 2,
   "metadata": {},
   "outputs": [],
   "source": [
    "url=\"https://www.worldometers.info/coronavirus/\""
   ]
  },
  {
   "cell_type": "code",
   "execution_count": 3,
   "metadata": {},
   "outputs": [
    {
     "name": "stdout",
     "output_type": "stream",
     "text": [
      "<Response [200]>\n"
     ]
    }
   ],
   "source": [
    "response=requests.get(url)\n",
    "print (response)"
   ]
  },
  {
   "cell_type": "code",
   "execution_count": 4,
   "metadata": {},
   "outputs": [],
   "source": [
    "####Parsing HTML\n",
    "soup=BeautifulSoup(response.content, \"html.parser\")"
   ]
  },
  {
   "cell_type": "code",
   "execution_count": 5,
   "metadata": {},
   "outputs": [
    {
     "name": "stdout",
     "output_type": "stream",
     "text": [
      "<title>Coronavirus Update (Live): 8,585,194 Cases and 456,439 Deaths from COVID-19 Virus Pandemic - Worldometer</title>\n"
     ]
    }
   ],
   "source": [
    "#### Title of the page\n",
    "Title = soup.title\n",
    "print(Title)"
   ]
  },
  {
   "cell_type": "code",
   "execution_count": 6,
   "metadata": {},
   "outputs": [
    {
     "name": "stdout",
     "output_type": "stream",
     "text": [
      "\n",
      "3,594,096\n",
      "Currently Infected Patients\n",
      "\n",
      "\n",
      "3,539,536 (98%)\n",
      "in Mild Condition\n",
      "\n",
      "54,560 (2%)\n",
      "Serious or Critical\n",
      "\n",
      "\n",
      "Show Graph\n",
      "\n"
     ]
    }
   ],
   "source": [
    "## Active cases\n",
    "divsActiveCases=soup.find(\"div\", class_=\"panel_flip\")\n",
    "for i in divsActiveCases.find_all(\"div\", class_=\"panel_front\"):\n",
    "    print(i.text)"
   ]
  },
  {
   "cell_type": "code",
   "execution_count": 7,
   "metadata": {},
   "outputs": [],
   "source": [
    "## Table details\n",
    "coronatable=soup.find_all(\"table\")"
   ]
  },
  {
   "cell_type": "code",
   "execution_count": 8,
   "metadata": {},
   "outputs": [
    {
     "data": {
      "text/plain": [
       "3"
      ]
     },
     "execution_count": 8,
     "metadata": {},
     "output_type": "execute_result"
    }
   ],
   "source": [
    "len(coronatable)"
   ]
  },
  {
   "cell_type": "code",
   "execution_count": 9,
   "metadata": {},
   "outputs": [],
   "source": [
    "co=coronatable[0]"
   ]
  },
  {
   "cell_type": "code",
   "execution_count": 10,
   "metadata": {},
   "outputs": [
    {
     "name": "stdout",
     "output_type": "stream",
     "text": [
      "['USA', 'Brazil', 'Russia', 'India', 'UK', 'Spain', 'Peru', 'Italy', 'Chile', 'Iran', 'Germany', 'Turkey', 'Mexico', 'Pakistan', 'France', 'Saudi Arabia', 'Bangladesh', 'Canada', 'Qatar', 'South Africa', 'Belgium', 'Colombia', 'Belarus', 'Sweden', 'Egypt', 'Netherlands', 'Ecuador', 'UAE', 'Indonesia', 'Singapore', 'Portugal', 'Kuwait', 'Argentina', 'Ukraine', 'Switzerland', 'Poland', 'Philippines', 'Afghanistan', 'Oman', 'Iraq', 'Ireland', 'Dominican Republic', 'Panama', 'Romania', 'Bolivia', 'Bahrain', 'Israel', 'Armenia', 'Nigeria', 'Japan', 'Austria', 'Kazakhstan', 'Moldova', 'Ghana', 'Serbia', 'Denmark', 'S. Korea', 'Guatemala', 'Algeria', 'Azerbaijan', 'Honduras', 'Cameroon', 'Czechia', 'Morocco', 'Norway', 'Malaysia', 'Sudan', 'Nepal', 'Australia', 'Finland', 'Ivory Coast', 'Uzbekistan', 'Senegal', 'DRC', 'Tajikistan', 'Haiti', 'Guinea', 'North Macedonia', 'Djibouti', 'Gabon', 'Kenya', 'El Salvador', 'Luxembourg', 'Hungary', 'Ethiopia', 'Bulgaria', 'Venezuela', 'Greece', 'Bosnia and Herzegovina', 'Thailand', 'Kyrgyzstan', 'Somalia', 'CAR', 'Mauritania', 'Mayotte', 'Cuba', 'Croatia', 'Maldives', 'Estonia', 'Sri Lanka', 'Costa Rica', 'Mali', 'South Sudan', 'Nicaragua', 'Iceland', 'Albania', 'Lithuania', 'French Guiana', 'Equatorial Guinea', 'Slovakia', 'Slovenia', 'New Zealand', 'Lebanon', 'Guinea-Bissau', 'Zambia', 'Madagascar', 'Paraguay', 'Sierra Leone', 'Tunisia', 'Hong Kong', 'Latvia', 'Niger', 'Jordan', 'Cyprus', 'Yemen', 'Burkina Faso', 'Georgia', 'Congo', 'Andorra', 'Chad', 'Uruguay', 'Cabo Verde', 'Uganda', 'Diamond Princess', 'San Marino', 'Sao Tome and Principe', 'Malta', 'Mozambique', 'Rwanda', 'Jamaica', 'Palestine', 'Benin', 'Malawi', 'Eswatini', 'Channel Islands', 'Togo', 'Liberia', 'Libya', 'Tanzania', 'Réunion', 'Zimbabwe', 'Taiwan', 'Vietnam', 'Mauritius', 'Montenegro', 'Isle of Man', 'Myanmar', 'Suriname', 'Martinique', 'Comoros', 'Mongolia', 'Cayman Islands', 'Syria', 'Faeroe Islands', 'Guyana', 'Gibraltar', 'Guadeloupe', 'Angola', 'Bermuda', 'Eritrea', 'Brunei', 'Cambodia', 'Trinidad and Tobago', 'Bahamas', 'Burundi', 'Aruba', 'Monaco', 'Barbados', 'Liechtenstein', 'Botswana', 'Sint Maarten', 'Bhutan', 'French Polynesia', 'Macao', 'Saint Martin', 'Namibia', 'Gambia', 'St. Vincent Grenadines', 'Antigua and Barbuda', 'Timor-Leste', 'Curaçao', 'Grenada', 'Belize', 'New Caledonia', 'Laos', 'Saint Lucia', 'Dominica', 'Fiji', 'Saint Kitts and Nevis', 'Falkland Islands', 'Greenland', 'Turks and Caicos', 'Vatican City', 'Montserrat', 'Seychelles', 'MS Zaandam', 'Western Sahara', 'British Virgin Islands', 'Papua New Guinea', 'Caribbean Netherlands', 'St. Barth', 'Lesotho', 'Anguilla', 'Saint Pierre Miquelon', 'China']\n",
      "['2,263,749', '983,359', '561,091', '381,485', '300,469', '292,348', '244,388', '238,159', '225,103', '197,647', '190,126', '184,031', '165,455', '165,062', '158,641', '145,991', '102,292', '100,220', '84,441', '83,890', '60,348', '60,217', '56,657', '56,043', '50,437', '49,319', '49,097', '43,752', '42,762', '41,473', '38,089', '38,074', '37,510', '34,063', '31,200', '31,015', '27,799', '27,532', '26,818', '25,717', '25,355', '24,645', '23,351', '23,080', '21,499', '20,430', '20,036', '18,698', '18,480', '17,668', '17,223', '16,351', '13,106', '12,929', '12,616', '12,344', '12,306', '11,868', '11,385', '11,329', '10,739', '10,638', '10,280', '9,074', '8,708', '8,529', '8,020', '7,848', '7,409', '7,119', '6,444', '5,855', '5,475', '5,283', '5,279', '4,916', '4,841', '4,664', '4,557', '4,340', '4,257', '4,200', '4,091', '4,079', '3,954', '3,674', '3,483', '3,227', '3,174', '3,146', '2,789', '2,719', '2,605', '2,424', '2,383', '2,295', '2,269', '2,137', '1,977', '1,947', '1,939', '1,906', '1,830', '1,823', '1,816', '1,788', '1,784', '1,758', '1,664', '1,562', '1,511', '1,507', '1,495', '1,492', '1,416', '1,403', '1,330', '1,272', '1,132', '1,125', '1,108', '1,020', '1,001', '985', '909', '899', '895', '883', '855', '854', '850', '823', '741', '712', '696', '688', '663', '662', '646', '638', '600', '597', '592', '586', '570', '547', '542', '510', '509', '502', '463', '446', '342', '337', '337', '336', '286', '277', '221', '210', '204', '193', '187', '187', '183', '176', '171', '166', '144', '142', '141', '129', '123', '104', '104', '101', '99', '97', '82', '79', '77', '67', '60', '45', '42', '39', '36', '29', '26', '24', '23', '23', '22', '21', '19', '19', '18', '18', '15', '13', '13', '12', '12', '11', '11', '9', '9', '8', '8', '7', '6', '4', '3', '1', '83,325']\n",
      "['+98', '', '', '+394', '', '', '', '', '', '', '', '', '+5,662', '+4,944', '', '', '', '', '', '', '', '', '', '', '', '', '', '', '', '', '', '', '', '', '', '', '', '', '', '', '', '', '', '', '+814', '', '', '', '', '', '', '+474', '', '', '', '', '+49', '+617', '', '', '+440', '+774', '', '', '', '', '', '', '+18', '', '', '+88', '', '', '', '+228', '', '', '', '', '', '', '', '', '', '', '', '', '', '+5', '+132', '', '', '', '', '', '', '', '', '+1', '', '', '', '', '', '', '', '', '', '', '', '', '', '', '', '', '', '', '', '', '', '', '', '', '', '', '+2', '', '', '', '', '', '', '', '', '', '', '', '', '+12', '', '', '', '', '', '', '', '', '', '', '', '', '', '', '', '', '+23', '', '', '', '+3', '', '', '', '', '', '', '', '', '', '', '', '', '', '', '', '', '', '', '', '', '', '', '', '', '', '', '', '', '', '', '', '', '', '', '', '', '', '', '', '', '', '', '', '', '', '', '', '', '', '', '', '', '', '+32']\n"
     ]
    }
   ],
   "source": [
    "country=[] ##Parse first row as Header\n",
    "total_cases=[]\n",
    "new_cases=[]\n",
    "rows=co.find_all(\"tr\")[9:-8]\n",
    "for row in rows:\n",
    "    col=row.find_all(\"td\")\n",
    "    country.append(col[1].text.strip())\n",
    "    total_cases.append(col[2].text.strip())\n",
    "    new_cases.append(col[3].text.strip())    \n",
    "print(country)\n",
    "print(total_cases)\n",
    "print(new_cases)"
   ]
  },
  {
   "cell_type": "code",
   "execution_count": 11,
   "metadata": {},
   "outputs": [
    {
     "data": {
      "text/html": [
       "<div>\n",
       "<style scoped>\n",
       "    .dataframe tbody tr th:only-of-type {\n",
       "        vertical-align: middle;\n",
       "    }\n",
       "\n",
       "    .dataframe tbody tr th {\n",
       "        vertical-align: top;\n",
       "    }\n",
       "\n",
       "    .dataframe thead th {\n",
       "        text-align: right;\n",
       "    }\n",
       "</style>\n",
       "<table border=\"1\" class=\"dataframe\">\n",
       "  <thead>\n",
       "    <tr style=\"text-align: right;\">\n",
       "      <th></th>\n",
       "      <th>Country</th>\n",
       "      <th>Total_Cases</th>\n",
       "      <th>New_Cases</th>\n",
       "    </tr>\n",
       "  </thead>\n",
       "  <tbody>\n",
       "    <tr>\n",
       "      <th>0</th>\n",
       "      <td>USA</td>\n",
       "      <td>2,263,749</td>\n",
       "      <td>+98</td>\n",
       "    </tr>\n",
       "    <tr>\n",
       "      <th>1</th>\n",
       "      <td>Brazil</td>\n",
       "      <td>983,359</td>\n",
       "      <td></td>\n",
       "    </tr>\n",
       "    <tr>\n",
       "      <th>2</th>\n",
       "      <td>Russia</td>\n",
       "      <td>561,091</td>\n",
       "      <td></td>\n",
       "    </tr>\n",
       "    <tr>\n",
       "      <th>3</th>\n",
       "      <td>India</td>\n",
       "      <td>381,485</td>\n",
       "      <td>+394</td>\n",
       "    </tr>\n",
       "    <tr>\n",
       "      <th>4</th>\n",
       "      <td>UK</td>\n",
       "      <td>300,469</td>\n",
       "      <td></td>\n",
       "    </tr>\n",
       "    <tr>\n",
       "      <th>...</th>\n",
       "      <td>...</td>\n",
       "      <td>...</td>\n",
       "      <td>...</td>\n",
       "    </tr>\n",
       "    <tr>\n",
       "      <th>210</th>\n",
       "      <td>St. Barth</td>\n",
       "      <td>6</td>\n",
       "      <td></td>\n",
       "    </tr>\n",
       "    <tr>\n",
       "      <th>211</th>\n",
       "      <td>Lesotho</td>\n",
       "      <td>4</td>\n",
       "      <td></td>\n",
       "    </tr>\n",
       "    <tr>\n",
       "      <th>212</th>\n",
       "      <td>Anguilla</td>\n",
       "      <td>3</td>\n",
       "      <td></td>\n",
       "    </tr>\n",
       "    <tr>\n",
       "      <th>213</th>\n",
       "      <td>Saint Pierre Miquelon</td>\n",
       "      <td>1</td>\n",
       "      <td></td>\n",
       "    </tr>\n",
       "    <tr>\n",
       "      <th>214</th>\n",
       "      <td>China</td>\n",
       "      <td>83,325</td>\n",
       "      <td>+32</td>\n",
       "    </tr>\n",
       "  </tbody>\n",
       "</table>\n",
       "<p>215 rows × 3 columns</p>\n",
       "</div>"
      ],
      "text/plain": [
       "                   Country Total_Cases New_Cases\n",
       "0                      USA   2,263,749       +98\n",
       "1                   Brazil     983,359          \n",
       "2                   Russia     561,091          \n",
       "3                    India     381,485      +394\n",
       "4                       UK     300,469          \n",
       "..                     ...         ...       ...\n",
       "210              St. Barth           6          \n",
       "211                Lesotho           4          \n",
       "212               Anguilla           3          \n",
       "213  Saint Pierre Miquelon           1          \n",
       "214                  China      83,325       +32\n",
       "\n",
       "[215 rows x 3 columns]"
      ]
     },
     "execution_count": 11,
     "metadata": {},
     "output_type": "execute_result"
    }
   ],
   "source": [
    "####Create a Dataframe\n",
    "\n",
    "df=pd.DataFrame(list(zip(country, total_cases,new_cases)), columns=[\"Country\",\"Total_Cases\",\"New_Cases\"])\n",
    "df"
   ]
  },
  {
   "cell_type": "code",
   "execution_count": 12,
   "metadata": {},
   "outputs": [
    {
     "data": {
      "text/plain": [
       "Country        object\n",
       "Total_Cases    object\n",
       "New_Cases      object\n",
       "dtype: object"
      ]
     },
     "execution_count": 12,
     "metadata": {},
     "output_type": "execute_result"
    }
   ],
   "source": [
    "df.dtypes"
   ]
  },
  {
   "cell_type": "code",
   "execution_count": 13,
   "metadata": {},
   "outputs": [
    {
     "name": "stdout",
     "output_type": "stream",
     "text": [
      "<class 'pandas.core.frame.DataFrame'>\n",
      "RangeIndex: 215 entries, 0 to 214\n",
      "Data columns (total 3 columns):\n",
      " #   Column       Non-Null Count  Dtype \n",
      "---  ------       --------------  ----- \n",
      " 0   Country      215 non-null    object\n",
      " 1   Total_Cases  215 non-null    object\n",
      " 2   New_Cases    215 non-null    object\n",
      "dtypes: object(3)\n",
      "memory usage: 5.2+ KB\n"
     ]
    }
   ],
   "source": [
    "df.info()"
   ]
  },
  {
   "cell_type": "code",
   "execution_count": 14,
   "metadata": {},
   "outputs": [
    {
     "data": {
      "text/html": [
       "<div>\n",
       "<style scoped>\n",
       "    .dataframe tbody tr th:only-of-type {\n",
       "        vertical-align: middle;\n",
       "    }\n",
       "\n",
       "    .dataframe tbody tr th {\n",
       "        vertical-align: top;\n",
       "    }\n",
       "\n",
       "    .dataframe thead th {\n",
       "        text-align: right;\n",
       "    }\n",
       "</style>\n",
       "<table border=\"1\" class=\"dataframe\">\n",
       "  <thead>\n",
       "    <tr style=\"text-align: right;\">\n",
       "      <th></th>\n",
       "      <th>Country</th>\n",
       "      <th>Total_Cases</th>\n",
       "      <th>New_Cases</th>\n",
       "    </tr>\n",
       "  </thead>\n",
       "  <tbody>\n",
       "    <tr>\n",
       "      <th>0</th>\n",
       "      <td>USA</td>\n",
       "      <td>2,263,749</td>\n",
       "      <td>+98</td>\n",
       "    </tr>\n",
       "    <tr>\n",
       "      <th>1</th>\n",
       "      <td>Brazil</td>\n",
       "      <td>983,359</td>\n",
       "      <td>0</td>\n",
       "    </tr>\n",
       "    <tr>\n",
       "      <th>2</th>\n",
       "      <td>Russia</td>\n",
       "      <td>561,091</td>\n",
       "      <td>0</td>\n",
       "    </tr>\n",
       "    <tr>\n",
       "      <th>3</th>\n",
       "      <td>India</td>\n",
       "      <td>381,485</td>\n",
       "      <td>+394</td>\n",
       "    </tr>\n",
       "    <tr>\n",
       "      <th>4</th>\n",
       "      <td>UK</td>\n",
       "      <td>300,469</td>\n",
       "      <td>0</td>\n",
       "    </tr>\n",
       "    <tr>\n",
       "      <th>...</th>\n",
       "      <td>...</td>\n",
       "      <td>...</td>\n",
       "      <td>...</td>\n",
       "    </tr>\n",
       "    <tr>\n",
       "      <th>210</th>\n",
       "      <td>St. Barth</td>\n",
       "      <td>6</td>\n",
       "      <td>0</td>\n",
       "    </tr>\n",
       "    <tr>\n",
       "      <th>211</th>\n",
       "      <td>Lesotho</td>\n",
       "      <td>4</td>\n",
       "      <td>0</td>\n",
       "    </tr>\n",
       "    <tr>\n",
       "      <th>212</th>\n",
       "      <td>Anguilla</td>\n",
       "      <td>3</td>\n",
       "      <td>0</td>\n",
       "    </tr>\n",
       "    <tr>\n",
       "      <th>213</th>\n",
       "      <td>Saint Pierre Miquelon</td>\n",
       "      <td>1</td>\n",
       "      <td>0</td>\n",
       "    </tr>\n",
       "    <tr>\n",
       "      <th>214</th>\n",
       "      <td>China</td>\n",
       "      <td>83,325</td>\n",
       "      <td>+32</td>\n",
       "    </tr>\n",
       "  </tbody>\n",
       "</table>\n",
       "<p>215 rows × 3 columns</p>\n",
       "</div>"
      ],
      "text/plain": [
       "                   Country Total_Cases New_Cases\n",
       "0                      USA   2,263,749       +98\n",
       "1                   Brazil     983,359         0\n",
       "2                   Russia     561,091         0\n",
       "3                    India     381,485      +394\n",
       "4                       UK     300,469         0\n",
       "..                     ...         ...       ...\n",
       "210              St. Barth           6         0\n",
       "211                Lesotho           4         0\n",
       "212               Anguilla           3         0\n",
       "213  Saint Pierre Miquelon           1         0\n",
       "214                  China      83,325       +32\n",
       "\n",
       "[215 rows x 3 columns]"
      ]
     },
     "execution_count": 14,
     "metadata": {},
     "output_type": "execute_result"
    }
   ],
   "source": [
    "df.replace(r'^\\s*$', np.nan, regex=True, inplace=True)\n",
    "df.replace(np.nan,0, inplace=True)\n",
    "df"
   ]
  },
  {
   "cell_type": "code",
   "execution_count": 15,
   "metadata": {},
   "outputs": [
    {
     "name": "stdout",
     "output_type": "stream",
     "text": [
      "[98, 0, 0, 394, 0, 0, 0, 0, 0, 0, 0, 0, 5662, 4944, 0, 0, 0, 0, 0, 0, 0, 0, 0, 0, 0, 0, 0, 0, 0, 0, 0, 0, 0, 0, 0, 0, 0, 0, 0, 0, 0, 0, 0, 0, 814, 0, 0, 0, 0, 0, 0, 474, 0, 0, 0, 0, 49, 617, 0, 0, 440, 774, 0, 0, 0, 0, 0, 0, 18, 0, 0, 88, 0, 0, 0, 228, 0, 0, 0, 0, 0, 0, 0, 0, 0, 0, 0, 0, 0, 5, 132, 0, 0, 0, 0, 0, 0, 0, 0, 1, 0, 0, 0, 0, 0, 0, 0, 0, 0, 0, 0, 0, 0, 0, 0, 0, 0, 0, 0, 0, 0, 0, 0, 0, 0, 0, 2, 0, 0, 0, 0, 0, 0, 0, 0, 0, 0, 0, 0, 12, 0, 0, 0, 0, 0, 0, 0, 0, 0, 0, 0, 0, 0, 0, 0, 0, 23, 0, 0, 0, 3, 0, 0, 0, 0, 0, 0, 0, 0, 0, 0, 0, 0, 0, 0, 0, 0, 0, 0, 0, 0, 0, 0, 0, 0, 0, 0, 0, 0, 0, 0, 0, 0, 0, 0, 0, 0, 0, 0, 0, 0, 0, 0, 0, 0, 0, 0, 0, 0, 0, 0, 0, 0, 0, 32]\n"
     ]
    }
   ],
   "source": [
    "new_cases1=[]\n",
    "for i in df[\"New_Cases\"]:\n",
    "    s=str(i)\n",
    "    s1=s.replace(\"+\",\"\")\n",
    "    s2=s1.replace(\",\",\"\")\n",
    "    s3=int(s2)\n",
    "    new_cases1.append(s3)\n",
    "    \n",
    "print(new_cases1)"
   ]
  },
  {
   "cell_type": "code",
   "execution_count": 16,
   "metadata": {},
   "outputs": [
    {
     "data": {
      "text/html": [
       "<div>\n",
       "<style scoped>\n",
       "    .dataframe tbody tr th:only-of-type {\n",
       "        vertical-align: middle;\n",
       "    }\n",
       "\n",
       "    .dataframe tbody tr th {\n",
       "        vertical-align: top;\n",
       "    }\n",
       "\n",
       "    .dataframe thead th {\n",
       "        text-align: right;\n",
       "    }\n",
       "</style>\n",
       "<table border=\"1\" class=\"dataframe\">\n",
       "  <thead>\n",
       "    <tr style=\"text-align: right;\">\n",
       "      <th></th>\n",
       "      <th>Country</th>\n",
       "      <th>Total_Cases</th>\n",
       "      <th>New_Cases</th>\n",
       "    </tr>\n",
       "  </thead>\n",
       "  <tbody>\n",
       "    <tr>\n",
       "      <th>0</th>\n",
       "      <td>USA</td>\n",
       "      <td>2,263,749</td>\n",
       "      <td>98</td>\n",
       "    </tr>\n",
       "    <tr>\n",
       "      <th>1</th>\n",
       "      <td>Brazil</td>\n",
       "      <td>983,359</td>\n",
       "      <td>0</td>\n",
       "    </tr>\n",
       "    <tr>\n",
       "      <th>2</th>\n",
       "      <td>Russia</td>\n",
       "      <td>561,091</td>\n",
       "      <td>0</td>\n",
       "    </tr>\n",
       "    <tr>\n",
       "      <th>3</th>\n",
       "      <td>India</td>\n",
       "      <td>381,485</td>\n",
       "      <td>394</td>\n",
       "    </tr>\n",
       "    <tr>\n",
       "      <th>4</th>\n",
       "      <td>UK</td>\n",
       "      <td>300,469</td>\n",
       "      <td>0</td>\n",
       "    </tr>\n",
       "    <tr>\n",
       "      <th>...</th>\n",
       "      <td>...</td>\n",
       "      <td>...</td>\n",
       "      <td>...</td>\n",
       "    </tr>\n",
       "    <tr>\n",
       "      <th>210</th>\n",
       "      <td>St. Barth</td>\n",
       "      <td>6</td>\n",
       "      <td>0</td>\n",
       "    </tr>\n",
       "    <tr>\n",
       "      <th>211</th>\n",
       "      <td>Lesotho</td>\n",
       "      <td>4</td>\n",
       "      <td>0</td>\n",
       "    </tr>\n",
       "    <tr>\n",
       "      <th>212</th>\n",
       "      <td>Anguilla</td>\n",
       "      <td>3</td>\n",
       "      <td>0</td>\n",
       "    </tr>\n",
       "    <tr>\n",
       "      <th>213</th>\n",
       "      <td>Saint Pierre Miquelon</td>\n",
       "      <td>1</td>\n",
       "      <td>0</td>\n",
       "    </tr>\n",
       "    <tr>\n",
       "      <th>214</th>\n",
       "      <td>China</td>\n",
       "      <td>83,325</td>\n",
       "      <td>32</td>\n",
       "    </tr>\n",
       "  </tbody>\n",
       "</table>\n",
       "<p>215 rows × 3 columns</p>\n",
       "</div>"
      ],
      "text/plain": [
       "                   Country Total_Cases  New_Cases\n",
       "0                      USA   2,263,749         98\n",
       "1                   Brazil     983,359          0\n",
       "2                   Russia     561,091          0\n",
       "3                    India     381,485        394\n",
       "4                       UK     300,469          0\n",
       "..                     ...         ...        ...\n",
       "210              St. Barth           6          0\n",
       "211                Lesotho           4          0\n",
       "212               Anguilla           3          0\n",
       "213  Saint Pierre Miquelon           1          0\n",
       "214                  China      83,325         32\n",
       "\n",
       "[215 rows x 3 columns]"
      ]
     },
     "execution_count": 16,
     "metadata": {},
     "output_type": "execute_result"
    }
   ],
   "source": [
    "df=pd.DataFrame(list(zip(country, total_cases,new_cases1)), columns=[\"Country\",\"Total_Cases\",\"New_Cases\"])\n",
    "df"
   ]
  },
  {
   "cell_type": "code",
   "execution_count": 17,
   "metadata": {},
   "outputs": [
    {
     "data": {
      "text/plain": [
       "Country        object\n",
       "Total_Cases    object\n",
       "New_Cases       int64\n",
       "dtype: object"
      ]
     },
     "execution_count": 17,
     "metadata": {},
     "output_type": "execute_result"
    }
   ],
   "source": [
    "df.dtypes"
   ]
  },
  {
   "cell_type": "markdown",
   "metadata": {},
   "source": [
    "#### Data Scraping and Cleaning for INDIA data"
   ]
  },
  {
   "cell_type": "code",
   "execution_count": 18,
   "metadata": {},
   "outputs": [
    {
     "name": "stdout",
     "output_type": "stream",
     "text": [
      "['India']\n",
      "['381,485']\n",
      "['+394']\n"
     ]
    }
   ],
   "source": [
    "country=[] ##Parse first row as Header\n",
    "total_cases=[]\n",
    "new_cases=[]\n",
    "rows=co.find_all(\"tr\")[12:13]\n",
    "\n",
    "for row in rows:\n",
    "    col=row.find_all(\"td\")\n",
    "    country.append(col[1].text.strip())\n",
    "    total_cases.append(col[2].text.strip())\n",
    "    new_cases.append(col[3].text.strip())    \n",
    "print(country)\n",
    "print(total_cases)\n",
    "print(new_cases)"
   ]
  },
  {
   "cell_type": "code",
   "execution_count": 19,
   "metadata": {},
   "outputs": [
    {
     "data": {
      "text/html": [
       "<div>\n",
       "<style scoped>\n",
       "    .dataframe tbody tr th:only-of-type {\n",
       "        vertical-align: middle;\n",
       "    }\n",
       "\n",
       "    .dataframe tbody tr th {\n",
       "        vertical-align: top;\n",
       "    }\n",
       "\n",
       "    .dataframe thead th {\n",
       "        text-align: right;\n",
       "    }\n",
       "</style>\n",
       "<table border=\"1\" class=\"dataframe\">\n",
       "  <thead>\n",
       "    <tr style=\"text-align: right;\">\n",
       "      <th></th>\n",
       "      <th>Country</th>\n",
       "      <th>Total_Cases</th>\n",
       "      <th>New_Cases</th>\n",
       "    </tr>\n",
       "  </thead>\n",
       "  <tbody>\n",
       "    <tr>\n",
       "      <th>0</th>\n",
       "      <td>India</td>\n",
       "      <td>381,485</td>\n",
       "      <td>+394</td>\n",
       "    </tr>\n",
       "  </tbody>\n",
       "</table>\n",
       "</div>"
      ],
      "text/plain": [
       "  Country Total_Cases New_Cases\n",
       "0   India     381,485      +394"
      ]
     },
     "execution_count": 19,
     "metadata": {},
     "output_type": "execute_result"
    }
   ],
   "source": [
    "####Create a Dataframe\n",
    "\n",
    "df=pd.DataFrame(list(zip(country, total_cases,new_cases)), columns=[\"Country\",\"Total_Cases\",\"New_Cases\"])\n",
    "df"
   ]
  },
  {
   "cell_type": "code",
   "execution_count": 20,
   "metadata": {},
   "outputs": [
    {
     "data": {
      "text/html": [
       "<div>\n",
       "<style scoped>\n",
       "    .dataframe tbody tr th:only-of-type {\n",
       "        vertical-align: middle;\n",
       "    }\n",
       "\n",
       "    .dataframe tbody tr th {\n",
       "        vertical-align: top;\n",
       "    }\n",
       "\n",
       "    .dataframe thead th {\n",
       "        text-align: right;\n",
       "    }\n",
       "</style>\n",
       "<table border=\"1\" class=\"dataframe\">\n",
       "  <thead>\n",
       "    <tr style=\"text-align: right;\">\n",
       "      <th></th>\n",
       "      <th>Country</th>\n",
       "      <th>Total_Cases</th>\n",
       "      <th>New_Cases</th>\n",
       "    </tr>\n",
       "  </thead>\n",
       "  <tbody>\n",
       "    <tr>\n",
       "      <th>0</th>\n",
       "      <td>India</td>\n",
       "      <td>381,485</td>\n",
       "      <td>+394</td>\n",
       "    </tr>\n",
       "  </tbody>\n",
       "</table>\n",
       "</div>"
      ],
      "text/plain": [
       "  Country Total_Cases New_Cases\n",
       "0   India     381,485      +394"
      ]
     },
     "execution_count": 20,
     "metadata": {},
     "output_type": "execute_result"
    }
   ],
   "source": [
    "df.replace(r'^\\s*$', np.nan, regex=True, inplace=True)\n",
    "df.replace(np.nan,0, inplace=True)\n",
    "df"
   ]
  },
  {
   "cell_type": "code",
   "execution_count": 21,
   "metadata": {},
   "outputs": [
    {
     "name": "stdout",
     "output_type": "stream",
     "text": [
      "[394]\n"
     ]
    }
   ],
   "source": [
    "new_cases1=[]\n",
    "for i in df[\"New_Cases\"]:\n",
    "    s=str(i)\n",
    "    s1=s.replace(\"+\",\"\")\n",
    "    s2=s1.replace(\",\",\"\")\n",
    "    s3=int(s2)\n",
    "    new_cases1.append(s3)\n",
    "    \n",
    "print(new_cases1)"
   ]
  },
  {
   "cell_type": "code",
   "execution_count": 22,
   "metadata": {},
   "outputs": [
    {
     "data": {
      "text/html": [
       "<div>\n",
       "<style scoped>\n",
       "    .dataframe tbody tr th:only-of-type {\n",
       "        vertical-align: middle;\n",
       "    }\n",
       "\n",
       "    .dataframe tbody tr th {\n",
       "        vertical-align: top;\n",
       "    }\n",
       "\n",
       "    .dataframe thead th {\n",
       "        text-align: right;\n",
       "    }\n",
       "</style>\n",
       "<table border=\"1\" class=\"dataframe\">\n",
       "  <thead>\n",
       "    <tr style=\"text-align: right;\">\n",
       "      <th></th>\n",
       "      <th>Country</th>\n",
       "      <th>Total_Cases</th>\n",
       "      <th>New_Cases</th>\n",
       "    </tr>\n",
       "  </thead>\n",
       "  <tbody>\n",
       "    <tr>\n",
       "      <th>0</th>\n",
       "      <td>India</td>\n",
       "      <td>381,485</td>\n",
       "      <td>394</td>\n",
       "    </tr>\n",
       "  </tbody>\n",
       "</table>\n",
       "</div>"
      ],
      "text/plain": [
       "  Country Total_Cases  New_Cases\n",
       "0   India     381,485        394"
      ]
     },
     "execution_count": 22,
     "metadata": {},
     "output_type": "execute_result"
    }
   ],
   "source": [
    "df=pd.DataFrame(list(zip(country, total_cases,new_cases1)), columns=[\"Country\",\"Total_Cases\",\"New_Cases\"])\n",
    "df"
   ]
  },
  {
   "cell_type": "markdown",
   "metadata": {},
   "source": [
    "#### Data Scraping and Cleaning for WORLD data"
   ]
  },
  {
   "cell_type": "code",
   "execution_count": 23,
   "metadata": {},
   "outputs": [
    {
     "name": "stdout",
     "output_type": "stream",
     "text": [
      "['World']\n",
      "['8,585,194']\n",
      "['+14,810']\n"
     ]
    }
   ],
   "source": [
    "country=[] ##Parse first row as Header\n",
    "total_cases=[]\n",
    "new_cases=[]\n",
    "rows=co.find_all(\"tr\")[8:9]\n",
    "\n",
    "for row in rows:\n",
    "    col=row.find_all(\"td\")\n",
    "    country.append(col[1].text.strip())\n",
    "    total_cases.append(col[2].text.strip())\n",
    "    new_cases.append(col[3].text.strip())    \n",
    "print(country)\n",
    "print(total_cases)\n",
    "print(new_cases)"
   ]
  },
  {
   "cell_type": "code",
   "execution_count": 24,
   "metadata": {},
   "outputs": [
    {
     "data": {
      "text/html": [
       "<div>\n",
       "<style scoped>\n",
       "    .dataframe tbody tr th:only-of-type {\n",
       "        vertical-align: middle;\n",
       "    }\n",
       "\n",
       "    .dataframe tbody tr th {\n",
       "        vertical-align: top;\n",
       "    }\n",
       "\n",
       "    .dataframe thead th {\n",
       "        text-align: right;\n",
       "    }\n",
       "</style>\n",
       "<table border=\"1\" class=\"dataframe\">\n",
       "  <thead>\n",
       "    <tr style=\"text-align: right;\">\n",
       "      <th></th>\n",
       "      <th>Country</th>\n",
       "      <th>Total_Cases</th>\n",
       "      <th>New_Cases</th>\n",
       "    </tr>\n",
       "  </thead>\n",
       "  <tbody>\n",
       "    <tr>\n",
       "      <th>0</th>\n",
       "      <td>World</td>\n",
       "      <td>8,585,194</td>\n",
       "      <td>+14,810</td>\n",
       "    </tr>\n",
       "  </tbody>\n",
       "</table>\n",
       "</div>"
      ],
      "text/plain": [
       "  Country Total_Cases New_Cases\n",
       "0   World   8,585,194   +14,810"
      ]
     },
     "execution_count": 24,
     "metadata": {},
     "output_type": "execute_result"
    }
   ],
   "source": [
    "####Create a Dataframe\n",
    "\n",
    "df=pd.DataFrame(list(zip(country, total_cases,new_cases)), columns=[\"Country\",\"Total_Cases\",\"New_Cases\"])\n",
    "df"
   ]
  },
  {
   "cell_type": "code",
   "execution_count": 25,
   "metadata": {},
   "outputs": [
    {
     "data": {
      "text/html": [
       "<div>\n",
       "<style scoped>\n",
       "    .dataframe tbody tr th:only-of-type {\n",
       "        vertical-align: middle;\n",
       "    }\n",
       "\n",
       "    .dataframe tbody tr th {\n",
       "        vertical-align: top;\n",
       "    }\n",
       "\n",
       "    .dataframe thead th {\n",
       "        text-align: right;\n",
       "    }\n",
       "</style>\n",
       "<table border=\"1\" class=\"dataframe\">\n",
       "  <thead>\n",
       "    <tr style=\"text-align: right;\">\n",
       "      <th></th>\n",
       "      <th>Country</th>\n",
       "      <th>Total_Cases</th>\n",
       "      <th>New_Cases</th>\n",
       "    </tr>\n",
       "  </thead>\n",
       "  <tbody>\n",
       "    <tr>\n",
       "      <th>0</th>\n",
       "      <td>World</td>\n",
       "      <td>8,585,194</td>\n",
       "      <td>+14,810</td>\n",
       "    </tr>\n",
       "  </tbody>\n",
       "</table>\n",
       "</div>"
      ],
      "text/plain": [
       "  Country Total_Cases New_Cases\n",
       "0   World   8,585,194   +14,810"
      ]
     },
     "execution_count": 25,
     "metadata": {},
     "output_type": "execute_result"
    }
   ],
   "source": [
    "df.replace(r'^\\s*$', np.nan, regex=True, inplace=True)\n",
    "df.replace(np.nan,0, inplace=True)\n",
    "df"
   ]
  },
  {
   "cell_type": "code",
   "execution_count": 26,
   "metadata": {},
   "outputs": [
    {
     "name": "stdout",
     "output_type": "stream",
     "text": [
      "[14810]\n"
     ]
    }
   ],
   "source": [
    "new_cases1=[]\n",
    "for i in df[\"New_Cases\"]:\n",
    "    s=str(i)\n",
    "    s1=s.replace(\"+\",\"\")\n",
    "    s2=s1.replace(\",\",\"\")\n",
    "    s3=int(s2)\n",
    "    new_cases1.append(s3)\n",
    "    \n",
    "print(new_cases1)"
   ]
  },
  {
   "cell_type": "code",
   "execution_count": 27,
   "metadata": {},
   "outputs": [
    {
     "data": {
      "text/html": [
       "<div>\n",
       "<style scoped>\n",
       "    .dataframe tbody tr th:only-of-type {\n",
       "        vertical-align: middle;\n",
       "    }\n",
       "\n",
       "    .dataframe tbody tr th {\n",
       "        vertical-align: top;\n",
       "    }\n",
       "\n",
       "    .dataframe thead th {\n",
       "        text-align: right;\n",
       "    }\n",
       "</style>\n",
       "<table border=\"1\" class=\"dataframe\">\n",
       "  <thead>\n",
       "    <tr style=\"text-align: right;\">\n",
       "      <th></th>\n",
       "      <th>Country</th>\n",
       "      <th>Total_Cases</th>\n",
       "      <th>New_Cases</th>\n",
       "    </tr>\n",
       "  </thead>\n",
       "  <tbody>\n",
       "    <tr>\n",
       "      <th>0</th>\n",
       "      <td>World</td>\n",
       "      <td>8,585,194</td>\n",
       "      <td>14810</td>\n",
       "    </tr>\n",
       "  </tbody>\n",
       "</table>\n",
       "</div>"
      ],
      "text/plain": [
       "  Country Total_Cases  New_Cases\n",
       "0   World   8,585,194      14810"
      ]
     },
     "execution_count": 27,
     "metadata": {},
     "output_type": "execute_result"
    }
   ],
   "source": [
    "df=pd.DataFrame(list(zip(country, total_cases,new_cases1)), columns=[\"Country\",\"Total_Cases\",\"New_Cases\"])\n",
    "df"
   ]
  },
  {
   "cell_type": "markdown",
   "metadata": {},
   "source": [
    "#### Q3: Find more data across the internet and write about various features that you’d like to do an analysis upon\n"
   ]
  },
  {
   "cell_type": "code",
   "execution_count": null,
   "metadata": {},
   "outputs": [],
   "source": [
    "######COVID19 Testing data Set - \n",
    "This should cover \n",
    "1. How many tests does a country do to find one COVID-19 case?\n",
    "2. daily number of tests against the daily number of new confirmed cases, per million people.\n",
    "3. total tests performed relative to the size of population\n",
    "and many such aspects related to testing of COVID19 cases\n",
    "#######Mortality Rate dataset-\n",
    "1. Worldwide\n",
    "2. Country wise\n",
    "3. India\n",
    "#######Sysmptoms -\n",
    "1. Sysmptom in diferent stages (day wise symptoms) "
   ]
  }
 ],
 "metadata": {
  "kernelspec": {
   "display_name": "Python 3",
   "language": "python",
   "name": "python3"
  },
  "language_info": {
   "codemirror_mode": {
    "name": "ipython",
    "version": 3
   },
   "file_extension": ".py",
   "mimetype": "text/x-python",
   "name": "python",
   "nbconvert_exporter": "python",
   "pygments_lexer": "ipython3",
   "version": "3.7.6"
  }
 },
 "nbformat": 4,
 "nbformat_minor": 4
}
